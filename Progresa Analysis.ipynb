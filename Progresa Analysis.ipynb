{
 "cells": [
  {
   "cell_type": "markdown",
   "metadata": {
    "deletable": true,
    "editable": true,
    "ein.tags": [
     "worksheet-0"
    ],
    "slideshow": {
     "slide_type": "-"
    }
   },
   "source": [
    "# Karan Murthy\n",
    "\n",
    "# Analysis of the PROGRESA Program in Mexico\n"
   ]
  },
  {
   "cell_type": "markdown",
   "metadata": {
    "deletable": true,
    "editable": true,
    "ein.tags": [
     "worksheet-0"
    ],
    "slideshow": {
     "slide_type": "-"
    }
   },
   "source": [
    "## Introduction\n",
    "\n",
    "This is an in-depth analysis of the [Progresa program](http://en.wikipedia.org/wiki/Oportunidades), a government social assistance program in Mexico. This program, as well as the details of its impact, are described in the paper \"[School subsidies for the poor: evaluating the Mexican Progresa poverty program](http://www.sciencedirect.com/science/article/pii/S0304387803001858)\", by Paul Shultz.\n",
    "\n",
    "The goal of this problem set is to implement some of the basic econometric techniques to measure the impact of Progresa on secondary school enrollment rates. The timeline of the program was:\n",
    "\n",
    " * Baseline survey conducted in 1997\n",
    " * Intervention begins in 1998, \"Wave 1\" of data collected in 1998\n",
    " * \"Wave 2 of data\" collected in 1999\n",
    " * Evaluation ends in 2000, at which point the control villages were treated. \n",
    " \n",
    "The data is the actual data collected to evaluate the impact of the Progresa program.  In this file, each row corresponds to an observation taken for a given child for a given year. There are two years of data (1997 and 1998), and just under 40,000 children who are surveyed in each year. For each child-year observation, the following variables are collected:\n",
    "\n",
    "| Variable name | Description|\n",
    "|---------|---------|\n",
    "|year\t  |year in which data is collected\n",
    "|sex\t  |male = 1|\n",
    "|indig\t  |indigenous = 1|\n",
    "|dist_sec |nearest distance to a secondary school|\n",
    "|sc\t      |enrolled in school in year of survey|\n",
    "|grc      |grade enrolled|\n",
    "|fam_n    |family size|\n",
    "|min_dist |\tmin distance to an urban center|\n",
    "|dist_cap |\tmin distance to the capital|\n",
    "|poor     |\tpoor = 'pobre'|\n",
    "|progresa |treatment = 'basal'|\n",
    "|hohedu\t  |years of schooling of head of household|\n",
    "|hohwag\t  |monthly wages of head of household|\n",
    "|welfare_index|\twelfare index used to classify poor|\n",
    "|hohsex\t  |gender of head of household (male=1)|\n",
    "|hohage   |age of head of household|\n",
    "|age      |years old|\n",
    "|folnum\t  |individual id|\n",
    "|village  |\tvillage id|\n",
    "|sc97\t  |schooling in 1997|"
   ]
  },
  {
   "cell_type": "code",
   "execution_count": 1,
   "metadata": {
    "autoscroll": "json-false",
    "collapsed": false,
    "deletable": true,
    "editable": true,
    "ein.tags": [
     "worksheet-0"
    ],
    "slideshow": {
     "slide_type": "-"
    }
   },
   "outputs": [
    {
     "name": "stdout",
     "output_type": "stream",
     "text": [
      "3.6.0 |Continuum Analytics, Inc.| (default, Dec 23 2016, 12:06:52) [MSC v.1900 32 bit (Intel)]\n"
     ]
    }
   ],
   "source": [
    "import sys; print(sys.version)\n",
    "%matplotlib inline\n",
    "\n",
    "import pandas as pd\n",
    "from scipy import stats\n",
    "import seaborn as sns\n",
    "import matplotlib.pyplot as plt\n",
    "import statsmodels.formula.api as smf\n",
    "from IPython.display import display, HTML\n"
   ]
  },
  {
   "cell_type": "markdown",
   "metadata": {
    "deletable": true,
    "editable": true,
    "ein.tags": [
     "worksheet-0"
    ],
    "slideshow": {
     "slide_type": "-"
    }
   },
   "source": [
    "---\n",
    "## Part 1: Descriptive analysis\n",
    "\n",
    "### 1.1\tSummary Statistics\n",
    "\n",
    "a) Presenting number of missing observations for every single variable\n"
   ]
  },
  {
   "cell_type": "code",
   "execution_count": 3,
   "metadata": {
    "autoscroll": "json-false",
    "collapsed": false,
    "deletable": true,
    "editable": true,
    "ein.tags": [
     "worksheet-0"
    ],
    "slideshow": {
     "slide_type": "-"
    }
   },
   "outputs": [
    {
     "data": {
      "text/plain": [
       "year                0\n",
       "sex                24\n",
       "indig             300\n",
       "dist_sec            0\n",
       "sc               8453\n",
       "grc              6549\n",
       "fam_n               0\n",
       "min_dist            0\n",
       "dist_cap            0\n",
       "poor                0\n",
       "progresa            0\n",
       "hohedu              0\n",
       "hohwag              0\n",
       "welfare_index     210\n",
       "hohsex             20\n",
       "hohage             10\n",
       "age                 0\n",
       "village             0\n",
       "folnum              0\n",
       "grc97               0\n",
       "sc97             3872\n",
       "dtype: int64"
      ]
     },
     "metadata": {},
     "output_type": "display_data"
    }
   ],
   "source": [
    "# here...\n",
    "progresa_df = pd.read_csv('progresa_sample.csv')\n",
    "display(progresa_df.isnull().sum())"
   ]
  },
  {
   "cell_type": "markdown",
   "metadata": {
    "deletable": true,
    "editable": true,
    "ein.tags": [
     "worksheet-0"
    ],
    "slideshow": {
     "slide_type": "-"
    }
   },
   "source": [
    "b) Presenting summary statistics (mean and standard deviation) for all of the demographic variables in the dataset (i.e., everything except year, folnum, village)."
   ]
  },
  {
   "cell_type": "code",
   "execution_count": 4,
   "metadata": {
    "autoscroll": "json-false",
    "collapsed": false,
    "deletable": true,
    "editable": true,
    "ein.tags": [
     "worksheet-0"
    ],
    "slideshow": {
     "slide_type": "-"
    }
   },
   "outputs": [
    {
     "data": {
      "text/html": [
       "<div>\n",
       "<table border=\"1\" class=\"dataframe\">\n",
       "  <thead>\n",
       "    <tr style=\"text-align: right;\">\n",
       "      <th></th>\n",
       "      <th>mean</th>\n",
       "      <th>std</th>\n",
       "    </tr>\n",
       "  </thead>\n",
       "  <tbody>\n",
       "    <tr>\n",
       "      <th>age</th>\n",
       "      <td>11.366460</td>\n",
       "      <td>3.167744</td>\n",
       "    </tr>\n",
       "    <tr>\n",
       "      <th>sex</th>\n",
       "      <td>0.512211</td>\n",
       "      <td>0.499854</td>\n",
       "    </tr>\n",
       "    <tr>\n",
       "      <th>dist_cap</th>\n",
       "      <td>147.674452</td>\n",
       "      <td>76.063134</td>\n",
       "    </tr>\n",
       "    <tr>\n",
       "      <th>dist_sec</th>\n",
       "      <td>2.418910</td>\n",
       "      <td>2.234109</td>\n",
       "    </tr>\n",
       "    <tr>\n",
       "      <th>fam_n</th>\n",
       "      <td>7.215715</td>\n",
       "      <td>2.352900</td>\n",
       "    </tr>\n",
       "    <tr>\n",
       "      <th>indig</th>\n",
       "      <td>0.298324</td>\n",
       "      <td>0.457525</td>\n",
       "    </tr>\n",
       "    <tr>\n",
       "      <th>grc</th>\n",
       "      <td>3.963537</td>\n",
       "      <td>2.499063</td>\n",
       "    </tr>\n",
       "    <tr>\n",
       "      <th>grc97</th>\n",
       "      <td>3.705372</td>\n",
       "      <td>2.572387</td>\n",
       "    </tr>\n",
       "    <tr>\n",
       "      <th>hohage</th>\n",
       "      <td>44.436717</td>\n",
       "      <td>11.620372</td>\n",
       "    </tr>\n",
       "    <tr>\n",
       "      <th>hohedu</th>\n",
       "      <td>2.768104</td>\n",
       "      <td>2.656106</td>\n",
       "    </tr>\n",
       "    <tr>\n",
       "      <th>hohwag</th>\n",
       "      <td>586.985312</td>\n",
       "      <td>788.133664</td>\n",
       "    </tr>\n",
       "    <tr>\n",
       "      <th>hohsex</th>\n",
       "      <td>0.925185</td>\n",
       "      <td>0.263095</td>\n",
       "    </tr>\n",
       "    <tr>\n",
       "      <th>min_dist</th>\n",
       "      <td>103.447520</td>\n",
       "      <td>42.089441</td>\n",
       "    </tr>\n",
       "    <tr>\n",
       "      <th>sc</th>\n",
       "      <td>0.819818</td>\n",
       "      <td>0.384342</td>\n",
       "    </tr>\n",
       "    <tr>\n",
       "      <th>sc97</th>\n",
       "      <td>0.813922</td>\n",
       "      <td>0.389172</td>\n",
       "    </tr>\n",
       "    <tr>\n",
       "      <th>welfare_index</th>\n",
       "      <td>690.346564</td>\n",
       "      <td>139.491130</td>\n",
       "    </tr>\n",
       "  </tbody>\n",
       "</table>\n",
       "</div>"
      ],
      "text/plain": [
       "                     mean         std\n",
       "age             11.366460    3.167744\n",
       "sex              0.512211    0.499854\n",
       "dist_cap       147.674452   76.063134\n",
       "dist_sec         2.418910    2.234109\n",
       "fam_n            7.215715    2.352900\n",
       "indig            0.298324    0.457525\n",
       "grc              3.963537    2.499063\n",
       "grc97            3.705372    2.572387\n",
       "hohage          44.436717   11.620372\n",
       "hohedu           2.768104    2.656106\n",
       "hohwag         586.985312  788.133664\n",
       "hohsex           0.925185    0.263095\n",
       "min_dist       103.447520   42.089441\n",
       "sc               0.819818    0.384342\n",
       "sc97             0.813922    0.389172\n",
       "welfare_index  690.346564  139.491130"
      ]
     },
     "execution_count": 4,
     "metadata": {},
     "output_type": "execute_result"
    }
   ],
   "source": [
    "# edit me :-)\n",
    "summary_stats = progresa_df.describe()\n",
    "summary_stats = summary_stats.loc[['mean','std'], ['age', 'sex', 'dist_cap','dist_sec', 'fam_n', 'indig', 'grc', 'grc97', 'hohage',\n",
    "                                   'hohedu', 'hohwag', 'hohsex', 'min_dist', 'sc', 'sc97', 'welfare_index']]\n",
    "summary_stats.T\n"
   ]
  },
  {
   "cell_type": "markdown",
   "metadata": {
    "deletable": true,
    "editable": true,
    "ein.tags": [
     "worksheet-0"
    ],
    "slideshow": {
     "slide_type": "-"
    }
   },
   "source": [
    "### 1.2 Differences at baseline?\n",
    "\n",
    "Are the baseline (1997) demographic characteristics **for the poor**  different in treatment and control villages?  Focusing only on the data from 1997 for individuals who are poor (i.e., poor=='pobre').\n"
   ]
  },
  {
   "cell_type": "code",
   "execution_count": 5,
   "metadata": {
    "autoscroll": "json-false",
    "collapsed": false,
    "deletable": true,
    "editable": true,
    "ein.tags": [
     "worksheet-0"
    ],
    "slideshow": {
     "slide_type": "-"
    }
   },
   "outputs": [
    {
     "data": {
      "text/html": [
       "<div>\n",
       "<table border=\"1\" class=\"dataframe\">\n",
       "  <thead>\n",
       "    <tr style=\"text-align: right;\">\n",
       "      <th></th>\n",
       "      <th>Variable name</th>\n",
       "      <th>Average value(Treatment villages)</th>\n",
       "      <th>Average value(Control villages)</th>\n",
       "      <th>Difference (Treat - Control)</th>\n",
       "      <th>p-value</th>\n",
       "    </tr>\n",
       "  </thead>\n",
       "  <tbody>\n",
       "    <tr>\n",
       "      <th>0</th>\n",
       "      <td>age</td>\n",
       "      <td>10.717</td>\n",
       "      <td>10.742</td>\n",
       "      <td>-0.70863</td>\n",
       "      <td>0.478559</td>\n",
       "    </tr>\n",
       "    <tr>\n",
       "      <th>1</th>\n",
       "      <td>sex</td>\n",
       "      <td>0.519317</td>\n",
       "      <td>0.505052</td>\n",
       "      <td>2.50669</td>\n",
       "      <td>0.0121917</td>\n",
       "    </tr>\n",
       "    <tr>\n",
       "      <th>2</th>\n",
       "      <td>dist_cap</td>\n",
       "      <td>150.829</td>\n",
       "      <td>153.77</td>\n",
       "      <td>-3.33908</td>\n",
       "      <td>0.000841501</td>\n",
       "    </tr>\n",
       "    <tr>\n",
       "      <th>3</th>\n",
       "      <td>dist_sec</td>\n",
       "      <td>2.45312</td>\n",
       "      <td>2.50766</td>\n",
       "      <td>-2.10043</td>\n",
       "      <td>0.0356984</td>\n",
       "    </tr>\n",
       "    <tr>\n",
       "      <th>4</th>\n",
       "      <td>fam_n</td>\n",
       "      <td>7.28133</td>\n",
       "      <td>7.30247</td>\n",
       "      <td>-0.794167</td>\n",
       "      <td>0.427104</td>\n",
       "    </tr>\n",
       "    <tr>\n",
       "      <th>5</th>\n",
       "      <td>indig</td>\n",
       "      <td>0.325986</td>\n",
       "      <td>0.332207</td>\n",
       "      <td>-1.16171</td>\n",
       "      <td>0.24536</td>\n",
       "    </tr>\n",
       "    <tr>\n",
       "      <th>6</th>\n",
       "      <td>grc</td>\n",
       "      <td>3.5316</td>\n",
       "      <td>3.54305</td>\n",
       "      <td>-0.400196</td>\n",
       "      <td>0.689015</td>\n",
       "    </tr>\n",
       "    <tr>\n",
       "      <th>7</th>\n",
       "      <td>hohage</td>\n",
       "      <td>43.6488</td>\n",
       "      <td>44.2769</td>\n",
       "      <td>-4.77596</td>\n",
       "      <td>1.79624e-06</td>\n",
       "    </tr>\n",
       "    <tr>\n",
       "      <th>8</th>\n",
       "      <td>hohedu</td>\n",
       "      <td>2.66314</td>\n",
       "      <td>2.59035</td>\n",
       "      <td>2.54123</td>\n",
       "      <td>0.0110509</td>\n",
       "    </tr>\n",
       "    <tr>\n",
       "      <th>9</th>\n",
       "      <td>hohwag</td>\n",
       "      <td>544.34</td>\n",
       "      <td>573.164</td>\n",
       "      <td>-3.59459</td>\n",
       "      <td>0.000325384</td>\n",
       "    </tr>\n",
       "    <tr>\n",
       "      <th>10</th>\n",
       "      <td>hohsex</td>\n",
       "      <td>0.924656</td>\n",
       "      <td>0.922947</td>\n",
       "      <td>0.566312</td>\n",
       "      <td>0.571186</td>\n",
       "    </tr>\n",
       "    <tr>\n",
       "      <th>11</th>\n",
       "      <td>min_dist</td>\n",
       "      <td>107.153</td>\n",
       "      <td>103.238</td>\n",
       "      <td>8.20658</td>\n",
       "      <td>2.35831e-16</td>\n",
       "    </tr>\n",
       "    <tr>\n",
       "      <th>12</th>\n",
       "      <td>sc</td>\n",
       "      <td>0.822697</td>\n",
       "      <td>0.815186</td>\n",
       "      <td>1.66874</td>\n",
       "      <td>0.0951781</td>\n",
       "    </tr>\n",
       "    <tr>\n",
       "      <th>13</th>\n",
       "      <td>welfare_index</td>\n",
       "      <td>655.428</td>\n",
       "      <td>659.579</td>\n",
       "      <td>-3.18859</td>\n",
       "      <td>0.00143102</td>\n",
       "    </tr>\n",
       "  </tbody>\n",
       "</table>\n",
       "</div>"
      ],
      "text/plain": [
       "    Variable name Average value(Treatment villages)  \\\n",
       "0             age                            10.717   \n",
       "1             sex                          0.519317   \n",
       "2        dist_cap                           150.829   \n",
       "3        dist_sec                           2.45312   \n",
       "4           fam_n                           7.28133   \n",
       "5           indig                          0.325986   \n",
       "6             grc                            3.5316   \n",
       "7          hohage                           43.6488   \n",
       "8          hohedu                           2.66314   \n",
       "9          hohwag                            544.34   \n",
       "10         hohsex                          0.924656   \n",
       "11       min_dist                           107.153   \n",
       "12             sc                          0.822697   \n",
       "13  welfare_index                           655.428   \n",
       "\n",
       "   Average value(Control villages) Difference (Treat - Control)      p-value  \n",
       "0                           10.742                     -0.70863     0.478559  \n",
       "1                         0.505052                      2.50669    0.0121917  \n",
       "2                           153.77                     -3.33908  0.000841501  \n",
       "3                          2.50766                     -2.10043    0.0356984  \n",
       "4                          7.30247                    -0.794167     0.427104  \n",
       "5                         0.332207                     -1.16171      0.24536  \n",
       "6                          3.54305                    -0.400196     0.689015  \n",
       "7                          44.2769                     -4.77596  1.79624e-06  \n",
       "8                          2.59035                      2.54123    0.0110509  \n",
       "9                          573.164                     -3.59459  0.000325384  \n",
       "10                        0.922947                     0.566312     0.571186  \n",
       "11                         103.238                      8.20658  2.35831e-16  \n",
       "12                        0.815186                      1.66874    0.0951781  \n",
       "13                         659.579                     -3.18859   0.00143102  "
      ]
     },
     "execution_count": 5,
     "metadata": {},
     "output_type": "execute_result"
    }
   ],
   "source": [
    "progresa_df.loc[progresa_df.progresa == '0','progresa'] = 0\n",
    "progresa_df.loc[progresa_df.progresa == 'basal','progresa'] = 1\n",
    "progresa_df['progresa'] = progresa_df.progresa.astype('int')\n",
    "progresa_df.loc[progresa_df.poor == 'no pobre','poor'] = 0\n",
    "progresa_df.loc[progresa_df.poor == 'pobre','poor'] = 1\n",
    "progresa_df['poor'] = progresa_df.poor.astype('int')\n",
    "\n",
    "\n",
    "# Control group is the group with progresa value as 0 and Treatment group is the one \n",
    "# with progresa value 1.\n",
    "control_group_97 = progresa_df[(progresa_df['year'] == 97) & (progresa_df['poor'] == 1) \n",
    "                               & (progresa_df['progresa'] == 0)]\n",
    "\n",
    "treatment_group_97 = progresa_df[(progresa_df['year'] == 97) & (progresa_df['poor'] == 1) \n",
    "                               & (progresa_df['progresa'] == 1)]\n",
    "\n",
    "stat_df = pd.DataFrame(columns=['Variable name', 'Average value(Treatment villages)', 'Average value(Control villages)',\n",
    "                     'Difference (Treat - Control)', 'p-value'])\n",
    "required_columns = ['age', 'sex', 'dist_cap','dist_sec', 'fam_n', 'indig', 'grc', 'hohage',\n",
    "                                   'hohedu', 'hohwag', 'hohsex', 'min_dist', 'sc', 'welfare_index']\n",
    "for var in required_columns:\n",
    "    stat_df.set_value(required_columns.index(var), stat_df.columns[0], var)\n",
    "    stat_df.set_value(required_columns.index(var), stat_df.columns[1], treatment_group_97[var].mean())\n",
    "    stat_df.set_value(required_columns.index(var), stat_df.columns[2], control_group_97[var].mean())\n",
    "    t_test = stats.ttest_ind(treatment_group_97[var],control_group_97[var], nan_policy='omit')\n",
    "    stat_df.set_value(required_columns.index(var), stat_df.columns[3], t_test.statistic)\n",
    "    stat_df.set_value(required_columns.index(var), stat_df.columns[4], t_test.pvalue)\n",
    "    \n",
    "stat_df"
   ]
  },
  {
   "cell_type": "markdown",
   "metadata": {
    "deletable": true,
    "editable": true,
    "ein.tags": [
     "worksheet-0"
    ],
    "slideshow": {
     "slide_type": "-"
    }
   },
   "source": [
    "### 1.3 Interpretation\n",
    "\n",
    "* A: Are there statistically significant differences between treatment and control villages as baseline? \n",
    "* B: Why does it matter if there are differences at baseline?\n",
    "* C: What does this imply about how to measure the impact of the treatment?"
   ]
  },
  {
   "cell_type": "markdown",
   "metadata": {
    "autoscroll": "json-false",
    "collapsed": false,
    "deletable": true,
    "editable": true,
    "ein.tags": [
     "worksheet-0"
    ],
    "slideshow": {
     "slide_type": "-"
    }
   },
   "source": [
    "A.\n",
    "There are statistically significant differences between treatment and control villages in 8 out of the 14 measuring\n",
    "variables. These include sex, dist_cap, dist_sec, hohage, hohedu, hohwag, min_dist, and welfare_index.\n",
    "\n",
    "B.\n",
    "Ideally there should be no differences between treatment and control groups at baseline. If there are differences between groups even before the start of a treatment, then the cause of the changes in the groups after the study cannot be fully attributed to the treatment itself. \n",
    "\n",
    "C. \n",
    "Since the Progresa program was not implemented as a randomized control trial, simply looking at the difference in mean values of different variables in the treatment and control group will not be the most accurate measure of the impact of the treatment. In such circumstances, other techniques such as difference-in-difference between the mean values may help in analysing the effect of the treatment."
   ]
  },
  {
   "cell_type": "markdown",
   "metadata": {
    "deletable": true,
    "editable": true,
    "ein.tags": [
     "worksheet-0"
    ],
    "slideshow": {
     "slide_type": "-"
    }
   },
   "source": [
    "### 1.4 Graphical exploration, part 1\n",
    "\n",
    "For each level of household head education, computing the average enrollment rate in 1997."
   ]
  },
  {
   "cell_type": "code",
   "execution_count": 6,
   "metadata": {
    "autoscroll": "json-false",
    "collapsed": false,
    "deletable": true,
    "editable": true,
    "ein.tags": [
     "worksheet-0"
    ],
    "slideshow": {
     "slide_type": "-"
    }
   },
   "outputs": [
    {
     "data": {
      "text/html": [
       "<div>\n",
       "<table border=\"1\" class=\"dataframe\">\n",
       "  <thead>\n",
       "    <tr style=\"text-align: right;\">\n",
       "      <th></th>\n",
       "      <th>hohedu</th>\n",
       "      <th>sc</th>\n",
       "    </tr>\n",
       "  </thead>\n",
       "  <tbody>\n",
       "    <tr>\n",
       "      <th>0</th>\n",
       "      <td>0</td>\n",
       "      <td>0.776137</td>\n",
       "    </tr>\n",
       "    <tr>\n",
       "      <th>1</th>\n",
       "      <td>1</td>\n",
       "      <td>0.768537</td>\n",
       "    </tr>\n",
       "    <tr>\n",
       "      <th>2</th>\n",
       "      <td>2</td>\n",
       "      <td>0.794552</td>\n",
       "    </tr>\n",
       "    <tr>\n",
       "      <th>3</th>\n",
       "      <td>3</td>\n",
       "      <td>0.802956</td>\n",
       "    </tr>\n",
       "    <tr>\n",
       "      <th>4</th>\n",
       "      <td>4</td>\n",
       "      <td>0.842951</td>\n",
       "    </tr>\n",
       "    <tr>\n",
       "      <th>5</th>\n",
       "      <td>5</td>\n",
       "      <td>0.849835</td>\n",
       "    </tr>\n",
       "    <tr>\n",
       "      <th>6</th>\n",
       "      <td>6</td>\n",
       "      <td>0.878469</td>\n",
       "    </tr>\n",
       "    <tr>\n",
       "      <th>7</th>\n",
       "      <td>7</td>\n",
       "      <td>0.889535</td>\n",
       "    </tr>\n",
       "    <tr>\n",
       "      <th>8</th>\n",
       "      <td>8</td>\n",
       "      <td>0.900000</td>\n",
       "    </tr>\n",
       "    <tr>\n",
       "      <th>9</th>\n",
       "      <td>9</td>\n",
       "      <td>0.925023</td>\n",
       "    </tr>\n",
       "    <tr>\n",
       "      <th>10</th>\n",
       "      <td>10</td>\n",
       "      <td>0.865385</td>\n",
       "    </tr>\n",
       "    <tr>\n",
       "      <th>11</th>\n",
       "      <td>11</td>\n",
       "      <td>0.974359</td>\n",
       "    </tr>\n",
       "    <tr>\n",
       "      <th>12</th>\n",
       "      <td>12</td>\n",
       "      <td>0.982955</td>\n",
       "    </tr>\n",
       "    <tr>\n",
       "      <th>13</th>\n",
       "      <td>13</td>\n",
       "      <td>0.959459</td>\n",
       "    </tr>\n",
       "    <tr>\n",
       "      <th>14</th>\n",
       "      <td>14</td>\n",
       "      <td>0.880952</td>\n",
       "    </tr>\n",
       "    <tr>\n",
       "      <th>15</th>\n",
       "      <td>15</td>\n",
       "      <td>0.900000</td>\n",
       "    </tr>\n",
       "    <tr>\n",
       "      <th>16</th>\n",
       "      <td>16</td>\n",
       "      <td>0.941176</td>\n",
       "    </tr>\n",
       "    <tr>\n",
       "      <th>17</th>\n",
       "      <td>17</td>\n",
       "      <td>0.933333</td>\n",
       "    </tr>\n",
       "    <tr>\n",
       "      <th>18</th>\n",
       "      <td>18</td>\n",
       "      <td>1.000000</td>\n",
       "    </tr>\n",
       "    <tr>\n",
       "      <th>19</th>\n",
       "      <td>20</td>\n",
       "      <td>0.500000</td>\n",
       "    </tr>\n",
       "  </tbody>\n",
       "</table>\n",
       "</div>"
      ],
      "text/plain": [
       "    hohedu        sc\n",
       "0        0  0.776137\n",
       "1        1  0.768537\n",
       "2        2  0.794552\n",
       "3        3  0.802956\n",
       "4        4  0.842951\n",
       "5        5  0.849835\n",
       "6        6  0.878469\n",
       "7        7  0.889535\n",
       "8        8  0.900000\n",
       "9        9  0.925023\n",
       "10      10  0.865385\n",
       "11      11  0.974359\n",
       "12      12  0.982955\n",
       "13      13  0.959459\n",
       "14      14  0.880952\n",
       "15      15  0.900000\n",
       "16      16  0.941176\n",
       "17      17  0.933333\n",
       "18      18  1.000000\n",
       "19      20  0.500000"
      ]
     },
     "metadata": {},
     "output_type": "display_data"
    },
    {
     "data": {
      "text/plain": [
       "<seaborn.axisgrid.PairGrid at 0x8930fd0>"
      ]
     },
     "execution_count": 6,
     "metadata": {},
     "output_type": "execute_result"
    },
    {
     "data": {
      "image/png": "[encoded data removed]",
      "text/plain": [
       "<matplotlib.figure.Figure at 0x8930ad0>"
      ]
     },
     "metadata": {},
     "output_type": "display_data"
    }
   ],
   "source": [
    "avg_enrollment_by_hohedu = pd.DataFrame(progresa_df[progresa_df.year == 97].groupby('hohedu').mean()['sc'])\n",
    "avg_enrollment_by_hohedu.reset_index(level=0, inplace=True)\n",
    "display(avg_enrollment_by_hohedu)\n",
    "sns.pairplot(avg_enrollment_by_hohedu, x_vars = 'hohedu', y_vars = 'sc', size = 5, aspect = 0.7)"
   ]
  },
  {
   "cell_type": "markdown",
   "metadata": {
    "deletable": true,
    "editable": true
   },
   "source": [
    "With the exception of a few outliers, it can be observed that an increase in the number of years of education of the head of the household led to a corresponding increase in the enrollment rate in the year 1997. In other words, the higher the education level of the head of the household, the higher are the chances of their children getting enrolled in a school."
   ]
  },
  {
   "cell_type": "markdown",
   "metadata": {
    "deletable": true,
    "editable": true,
    "ein.tags": [
     "worksheet-0"
    ],
    "slideshow": {
     "slide_type": "-"
    }
   },
   "source": [
    "# 1.5 Graphical exploration, part 2\n",
    "\n",
    "Create a histogram of village enrollment rates **among poor households in treated villages**, before and after treatment. Specifically, for each village, calculate the average rate of enrollment of poor households in treated villages in 1997, then compute the average rate of enrollment of poor households in treated villages in 1998. Create two separate histograms showing the distribution of these average enrollments rates, one histogram for 1997 and one histogram for 1998. On each histogram, draw a vertical line that intersects the x-axis at the average value (across all households).\n",
    "* Does there appear to be a difference? Is this difference statistically significant?\n",
    "* Which D estimator in Schultz (2004) does this approach correspond to?"
   ]
  },
  {
   "cell_type": "code",
   "execution_count": 7,
   "metadata": {
    "autoscroll": "json-false",
    "collapsed": false,
    "deletable": true,
    "editable": true,
    "ein.tags": [
     "worksheet-0"
    ],
    "slideshow": {
     "slide_type": "-"
    }
   },
   "outputs": [
    {
     "data": {
      "image/png": "[encoded data removed]",
      "text/plain": [
       "<matplotlib.figure.Figure at 0x90f9430>"
      ]
     },
     "metadata": {},
     "output_type": "display_data"
    },
    {
     "data": {
      "image/png": "[encoded data removed]",
      "text/plain": [
       "<matplotlib.figure.Figure at 0x90fae90>"
      ]
     },
     "metadata": {},
     "output_type": "display_data"
    },
    {
     "name": "stdout",
     "output_type": "stream",
     "text": [
      "Mean of average enrolment in 1997 : 0.8138394110596501\n",
      "Mean of average enrolment in 1998 : 0.8295362042630737\n",
      "T-statistic (Avg Enrolment per village in 97 vs Avg Enrolment per village in 98) : -2.015713486515638\n",
      "P value (Avg Enrolment per village in 97 vs Avg Enrolment per village in 98) : 0.04424870036572115\n"
     ]
    }
   ],
   "source": [
    "avg_enrolment_by_village_97 = pd.DataFrame(progresa_df[(progresa_df.year == 97)\n",
    "                                                       & (progresa_df.poor == 1) & (progresa_df.progresa == 1)]\n",
    "                                           .groupby('village').mean()['sc'])\n",
    "avg_enrolment_by_village_98 = pd.DataFrame(progresa_df[(progresa_df.year == 98)\n",
    "                                                       & (progresa_df.poor == 1) & (progresa_df.progresa == 1)]\n",
    "                                           .groupby('village').mean()['sc'])\n",
    "avg_enrolment_by_village_97.reset_index(level=0, inplace=True)\n",
    "avg_enrolment_by_village_98.reset_index(level=0, inplace=True)\n",
    "\n",
    "\n",
    "#subplot1 = figure.add_subplot(1,2,1)\n",
    "plt.hist(avg_enrolment_by_village_97['sc'], color='c', alpha=1, ec='white')\n",
    "plt.axvline(avg_enrolment_by_village_97['sc'].mean(), color='red', linestyle='dashed', linewidth=2)\n",
    "plt.xlabel('Average enrolment rate in 1997')\n",
    "plt.ylabel('Number of Villages')\n",
    "plt.show()\n",
    "\n",
    "#subplot2 = figure.add_subplot(1,2,1)\n",
    "plt.hist(avg_enrolment_by_village_98['sc'], color='y', alpha=1, ec='white')\n",
    "plt.axvline(avg_enrolment_by_village_98['sc'].mean(), color='red', linestyle='dashed', linewidth=2)\n",
    "plt.xlabel('Average enrolment rate in 1998')\n",
    "plt.ylabel('Number of Villages')\n",
    "plt.show()\n",
    "\n",
    "t_test_village_enrolment = stats.ttest_ind(avg_enrolment_by_village_97['sc'], avg_enrolment_by_village_98['sc'], \n",
    "                                           nan_policy='omit')\n",
    "print('Mean of average enrolment in 1997 : ' + avg_enrolment_by_village_97['sc'].mean().astype('str'))\n",
    "print('Mean of average enrolment in 1998 : ' + avg_enrolment_by_village_98['sc'].mean().astype('str'))\n",
    "print('T-statistic (Avg Enrolment per village in 97 vs Avg Enrolment per village in 98) : ' +\n",
    "      t_test_village_enrolment.statistic.astype('str'))\n",
    "print('P value (Avg Enrolment per village in 97 vs Avg Enrolment per village in 98) : ' +\n",
    "      t_test_village_enrolment.pvalue.astype('str'))\n"
   ]
  },
  {
   "cell_type": "markdown",
   "metadata": {
    "deletable": true,
    "editable": true
   },
   "source": [
    "As the mean of average enrolment in 1998 (0.83) is slightly higher than that of 1997 (0.81), it can be said that the enrolment rate increased in 1998 compared to that in 1997. The p-value (0.044) of the t-test confirms that the difference is significant by a small amount."
   ]
  },
  {
   "cell_type": "markdown",
   "metadata": {
    "deletable": true,
    "editable": true,
    "ein.tags": [
     "worksheet-0"
    ],
    "slideshow": {
     "slide_type": "-"
    }
   },
   "source": [
    "## Part 2: Measuring Impact\n",
    "\n",
    "### 2.1 Simple differences: T-test\n",
    "\n",
    "Start out by estimating the impact of Progresa using \"simple differences.\" Restricting yourself to data from 1998 (after treatment).\n",
    "* calculate the average enrollment rate among **poor** households in the Treatment villages and the average enrollment rate among **poor** households in the control villages.\n",
    "* Which difference estimator in Schultz (2004) does this approach correspond to?\n",
    "* Use a t-test to determine if this difference is statistically significant. What do you conclude?"
   ]
  },
  {
   "cell_type": "code",
   "execution_count": 8,
   "metadata": {
    "autoscroll": "json-false",
    "collapsed": false,
    "deletable": true,
    "editable": true,
    "ein.tags": [
     "worksheet-0"
    ],
    "slideshow": {
     "slide_type": "-"
    }
   },
   "outputs": [
    {
     "name": "stdout",
     "output_type": "stream",
     "text": [
      "Average enrolment among poor households in control villages in 1998: 0.80763695673\n",
      "Average enrolment among poor households in treatment villages in 1998 :  0.846479121395\n",
      "T-stat (Average enrolment rate (Control vs Treatment in 1998)) : -8.35872056742\n",
      "P-value (Average enrolment rate (Control vs Treatment in 1998)) : 6.63634444738e-17\n"
     ]
    }
   ],
   "source": [
    "control_group_98 = progresa_df[(progresa_df['year'] == 98) & (progresa_df['poor'] == 1) \n",
    "                               & (progresa_df['progresa'] == 0)]\n",
    "\n",
    "treatment_group_98 = progresa_df[(progresa_df['year'] == 98) & (progresa_df['poor'] == 1) \n",
    "                               & (progresa_df['progresa'] == 1)]\n",
    "\n",
    "print('Average enrolment among poor households in control villages in 1998: ' + str(control_group_98['sc'].mean()))\n",
    "print('Average enrolment among poor households in treatment villages in 1998 : ', str(treatment_group_98['sc'].mean()))\n",
    "t_stat_avg_enrolment_98 = stats.ttest_ind(control_group_98['sc'], treatment_group_98['sc'], nan_policy='omit') \n",
    "print('T-stat (Average enrolment rate (Control vs Treatment in 1998)) : ' + str(t_stat_avg_enrolment_98.statistic))\n",
    "print('P-value (Average enrolment rate (Control vs Treatment in 1998)) : ' + str(t_stat_avg_enrolment_98.pvalue))"
   ]
  },
  {
   "cell_type": "markdown",
   "metadata": {
    "deletable": true,
    "editable": true
   },
   "source": [
    "Since the p-value of the t-statistic is less than 0.05, we can conclude that progresa program had an impact on student enrolment in the year 1998. The difference in average enrolment between treatment and control villages ( 0.84 - 0.80 = 0.04 ) further affirms the analysis. "
   ]
  },
  {
   "cell_type": "markdown",
   "metadata": {
    "deletable": true,
    "editable": true,
    "ein.tags": [
     "worksheet-0"
    ],
    "slideshow": {
     "slide_type": "-"
    }
   },
   "source": [
    "### 2.2 Simple differences: Regression\n",
    "\n",
    "Estimate the effects of Progresa on enrollment using a regression model, by regressing the 1998 enrollment rates **of the poor** on treatment assignment. Discuss the following:\n",
    "\n",
    "* Based on this model, how much did Progresa increase the likelihood of a child enrolling?\n",
    "* How does your regression estimate compare to your t-test estimate from part 2.1?\n",
    "* Based on this regression model, can we reject the null hypothesis that the treatment effects are zero? \n",
    "* What is the counterfactual assumption underlying this regression?"
   ]
  },
  {
   "cell_type": "code",
   "execution_count": 9,
   "metadata": {
    "autoscroll": "json-false",
    "collapsed": false,
    "deletable": true,
    "editable": true,
    "ein.tags": [
     "worksheet-0"
    ],
    "slideshow": {
     "slide_type": "-"
    }
   },
   "outputs": [
    {
     "data": {
      "text/html": [
       "<table class=\"simpletable\">\n",
       "<caption>OLS Regression Results</caption>\n",
       "<tr>\n",
       "  <th>Dep. Variable:</th>           <td>sc</td>        <th>  R-squared:         </th> <td>   0.003</td> \n",
       "</tr>\n",
       "<tr>\n",
       "  <th>Model:</th>                   <td>OLS</td>       <th>  Adj. R-squared:    </th> <td>   0.003</td> \n",
       "</tr>\n",
       "<tr>\n",
       "  <th>Method:</th>             <td>Least Squares</td>  <th>  F-statistic:       </th> <td>   69.87</td> \n",
       "</tr>\n",
       "<tr>\n",
       "  <th>Date:</th>             <td>Mon, 21 Aug 2017</td> <th>  Prob (F-statistic):</th> <td>6.64e-17</td> \n",
       "</tr>\n",
       "<tr>\n",
       "  <th>Time:</th>                 <td>16:02:11</td>     <th>  Log-Likelihood:    </th> <td> -11926.</td> \n",
       "</tr>\n",
       "<tr>\n",
       "  <th>No. Observations:</th>      <td> 27450</td>      <th>  AIC:               </th> <td>2.386e+04</td>\n",
       "</tr>\n",
       "<tr>\n",
       "  <th>Df Residuals:</th>          <td> 27448</td>      <th>  BIC:               </th> <td>2.387e+04</td>\n",
       "</tr>\n",
       "<tr>\n",
       "  <th>Df Model:</th>              <td>     1</td>      <th>                     </th>     <td> </td>    \n",
       "</tr>\n",
       "<tr>\n",
       "  <th>Covariance Type:</th>      <td>nonrobust</td>    <th>                     </th>     <td> </td>    \n",
       "</tr>\n",
       "</table>\n",
       "<table class=\"simpletable\">\n",
       "<tr>\n",
       "      <td></td>         <th>coef</th>     <th>std err</th>      <th>t</th>      <th>P>|t|</th>  <th>[0.025</th>    <th>0.975]</th>  \n",
       "</tr>\n",
       "<tr>\n",
       "  <th>Intercept</th> <td>    0.8076</td> <td>    0.004</td> <td>  220.676</td> <td> 0.000</td> <td>    0.800</td> <td>    0.815</td>\n",
       "</tr>\n",
       "<tr>\n",
       "  <th>progresa</th>  <td>    0.0388</td> <td>    0.005</td> <td>    8.359</td> <td> 0.000</td> <td>    0.030</td> <td>    0.048</td>\n",
       "</tr>\n",
       "</table>\n",
       "<table class=\"simpletable\">\n",
       "<tr>\n",
       "  <th>Omnibus:</th>       <td>7638.939</td> <th>  Durbin-Watson:     </th> <td>   1.734</td> \n",
       "</tr>\n",
       "<tr>\n",
       "  <th>Prob(Omnibus):</th>  <td> 0.000</td>  <th>  Jarque-Bera (JB):  </th> <td>15767.534</td>\n",
       "</tr>\n",
       "<tr>\n",
       "  <th>Skew:</th>           <td>-1.767</td>  <th>  Prob(JB):          </th> <td>    0.00</td> \n",
       "</tr>\n",
       "<tr>\n",
       "  <th>Kurtosis:</th>       <td> 4.140</td>  <th>  Cond. No.          </th> <td>    3.01</td> \n",
       "</tr>\n",
       "</table>"
      ],
      "text/plain": [
       "<class 'statsmodels.iolib.summary.Summary'>\n",
       "\"\"\"\n",
       "                            OLS Regression Results                            \n",
       "==============================================================================\n",
       "Dep. Variable:                     sc   R-squared:                       0.003\n",
       "Model:                            OLS   Adj. R-squared:                  0.003\n",
       "Method:                 Least Squares   F-statistic:                     69.87\n",
       "Date:                Mon, 21 Aug 2017   Prob (F-statistic):           6.64e-17\n",
       "Time:                        16:02:11   Log-Likelihood:                -11926.\n",
       "No. Observations:               27450   AIC:                         2.386e+04\n",
       "Df Residuals:                   27448   BIC:                         2.387e+04\n",
       "Df Model:                           1                                         \n",
       "Covariance Type:            nonrobust                                         \n",
       "==============================================================================\n",
       "                 coef    std err          t      P>|t|      [0.025      0.975]\n",
       "------------------------------------------------------------------------------\n",
       "Intercept      0.8076      0.004    220.676      0.000       0.800       0.815\n",
       "progresa       0.0388      0.005      8.359      0.000       0.030       0.048\n",
       "==============================================================================\n",
       "Omnibus:                     7638.939   Durbin-Watson:                   1.734\n",
       "Prob(Omnibus):                  0.000   Jarque-Bera (JB):            15767.534\n",
       "Skew:                          -1.767   Prob(JB):                         0.00\n",
       "Kurtosis:                       4.140   Cond. No.                         3.01\n",
       "==============================================================================\n",
       "\n",
       "Warnings:\n",
       "[1] Standard Errors assume that the covariance matrix of the errors is correctly specified.\n",
       "\"\"\""
      ]
     },
     "metadata": {},
     "output_type": "display_data"
    }
   ],
   "source": [
    "data_year_1998 = progresa_df[(progresa_df['year'] == 98) & (progresa_df['poor'] == 1)]\n",
    "lm = smf.ols(formula='sc ~ progresa', data=data_year_1998).fit()\n",
    "display(lm.summary())"
   ]
  },
  {
   "cell_type": "markdown",
   "metadata": {
    "deletable": true,
    "editable": true
   },
   "source": [
    "There are only two possibilities - enrolled in Progresa or not enrolled in Progresa. In case of the control group (not enrolled in Progresa) the intercept value will give the likelihood of a child enrolling in the program. In other words, for control groups in 1998, the likelihood that a child will enroll in Progresa is 0.8076, which is identical to the t-test performed in 2.1. For treatment groups, the slope value (Beta Coefficient) gives the increase in the likelihood that a child will enroll in this program. In other words, there is 0.0388 more likelihood of a child from the treatment group to be enrolled in the program in 1998. This gives the combined likelihood of 0.8464 (0.8076 + 0.0388). \n",
    "\n",
    "Since the p value is less than 0.05, the null hypothesis that the treatment effects are 0 can be rejected. \n",
    "\n",
    "Counterfactual assumption is asking the question, 'What would have happened if Progresa was not implemented?'. A possible counterfactual assumption would be that there would be no difference in the average enrolment rates between treatment and control groups if Progresa was not implemented."
   ]
  },
  {
   "cell_type": "markdown",
   "metadata": {
    "deletable": true,
    "editable": true,
    "ein.tags": [
     "worksheet-0"
    ],
    "slideshow": {
     "slide_type": "-"
    }
   },
   "source": [
    "### 2.3 Multiple Regression\n",
    "\n",
    "Re-run the above regression estimated but this time include a set of control variables. Include, for instance, age, distance to a secondary school, gender, education of household head, indigenous, etc.\n",
    "\n",
    "* How do the controls affect the point estimate of treatment effect?\n",
    "* How do the controls affect the standard error on the treatment effect? \n",
    "* How do you interpret the differences (or similarities) between your estimates of 2.2 and 2.3?"
   ]
  },
  {
   "cell_type": "code",
   "execution_count": 10,
   "metadata": {
    "autoscroll": "json-false",
    "collapsed": false,
    "deletable": true,
    "editable": true,
    "ein.tags": [
     "worksheet-0"
    ],
    "slideshow": {
     "slide_type": "-"
    }
   },
   "outputs": [
    {
     "data": {
      "text/html": [
       "<table class=\"simpletable\">\n",
       "<caption>OLS Regression Results</caption>\n",
       "<tr>\n",
       "  <th>Dep. Variable:</th>           <td>sc</td>        <th>  R-squared:         </th> <td>   0.273</td> \n",
       "</tr>\n",
       "<tr>\n",
       "  <th>Model:</th>                   <td>OLS</td>       <th>  Adj. R-squared:    </th> <td>   0.273</td> \n",
       "</tr>\n",
       "<tr>\n",
       "  <th>Method:</th>             <td>Least Squares</td>  <th>  F-statistic:       </th> <td>   1282.</td> \n",
       "</tr>\n",
       "<tr>\n",
       "  <th>Date:</th>             <td>Mon, 21 Aug 2017</td> <th>  Prob (F-statistic):</th>  <td>  0.00</td>  \n",
       "</tr>\n",
       "<tr>\n",
       "  <th>Time:</th>                 <td>16:02:17</td>     <th>  Log-Likelihood:    </th> <td> -7576.0</td> \n",
       "</tr>\n",
       "<tr>\n",
       "  <th>No. Observations:</th>      <td> 27340</td>      <th>  AIC:               </th> <td>1.517e+04</td>\n",
       "</tr>\n",
       "<tr>\n",
       "  <th>Df Residuals:</th>          <td> 27331</td>      <th>  BIC:               </th> <td>1.524e+04</td>\n",
       "</tr>\n",
       "<tr>\n",
       "  <th>Df Model:</th>              <td>     8</td>      <th>                     </th>     <td> </td>    \n",
       "</tr>\n",
       "<tr>\n",
       "  <th>Covariance Type:</th>      <td>nonrobust</td>    <th>                     </th>     <td> </td>    \n",
       "</tr>\n",
       "</table>\n",
       "<table class=\"simpletable\">\n",
       "<tr>\n",
       "      <td></td>         <th>coef</th>     <th>std err</th>      <th>t</th>      <th>P>|t|</th>  <th>[0.025</th>    <th>0.975]</th>  \n",
       "</tr>\n",
       "<tr>\n",
       "  <th>Intercept</th> <td>    1.4620</td> <td>    0.010</td> <td>  140.217</td> <td> 0.000</td> <td>    1.442</td> <td>    1.482</td>\n",
       "</tr>\n",
       "<tr>\n",
       "  <th>progresa</th>  <td>    0.0343</td> <td>    0.004</td> <td>    8.594</td> <td> 0.000</td> <td>    0.026</td> <td>    0.042</td>\n",
       "</tr>\n",
       "<tr>\n",
       "  <th>age</th>       <td>   -0.0657</td> <td>    0.001</td> <td>  -96.293</td> <td> 0.000</td> <td>   -0.067</td> <td>   -0.064</td>\n",
       "</tr>\n",
       "<tr>\n",
       "  <th>dist_cap</th>  <td>    0.0002</td> <td> 3.69e-05</td> <td>    5.681</td> <td> 0.000</td> <td>    0.000</td> <td>    0.000</td>\n",
       "</tr>\n",
       "<tr>\n",
       "  <th>dist_sec</th>  <td>   -0.0107</td> <td>    0.001</td> <td>  -12.193</td> <td> 0.000</td> <td>   -0.012</td> <td>   -0.009</td>\n",
       "</tr>\n",
       "<tr>\n",
       "  <th>indig</th>     <td>    0.0190</td> <td>    0.005</td> <td>    4.040</td> <td> 0.000</td> <td>    0.010</td> <td>    0.028</td>\n",
       "</tr>\n",
       "<tr>\n",
       "  <th>sex</th>       <td>    0.0304</td> <td>    0.004</td> <td>    7.875</td> <td> 0.000</td> <td>    0.023</td> <td>    0.038</td>\n",
       "</tr>\n",
       "<tr>\n",
       "  <th>hohedu</th>    <td>    0.0079</td> <td>    0.001</td> <td>   10.217</td> <td> 0.000</td> <td>    0.006</td> <td>    0.009</td>\n",
       "</tr>\n",
       "<tr>\n",
       "  <th>min_dist</th>  <td>    0.0004</td> <td> 6.33e-05</td> <td>    6.112</td> <td> 0.000</td> <td>    0.000</td> <td>    0.001</td>\n",
       "</tr>\n",
       "</table>\n",
       "<table class=\"simpletable\">\n",
       "<tr>\n",
       "  <th>Omnibus:</th>       <td>2922.409</td> <th>  Durbin-Watson:     </th> <td>   1.728</td>\n",
       "</tr>\n",
       "<tr>\n",
       "  <th>Prob(Omnibus):</th>  <td> 0.000</td>  <th>  Jarque-Bera (JB):  </th> <td>3958.536</td>\n",
       "</tr>\n",
       "<tr>\n",
       "  <th>Skew:</th>           <td>-0.925</td>  <th>  Prob(JB):          </th> <td>    0.00</td>\n",
       "</tr>\n",
       "<tr>\n",
       "  <th>Kurtosis:</th>       <td> 3.228</td>  <th>  Cond. No.          </th> <td>1.11e+03</td>\n",
       "</tr>\n",
       "</table>"
      ],
      "text/plain": [
       "<class 'statsmodels.iolib.summary.Summary'>\n",
       "\"\"\"\n",
       "                            OLS Regression Results                            \n",
       "==============================================================================\n",
       "Dep. Variable:                     sc   R-squared:                       0.273\n",
       "Model:                            OLS   Adj. R-squared:                  0.273\n",
       "Method:                 Least Squares   F-statistic:                     1282.\n",
       "Date:                Mon, 21 Aug 2017   Prob (F-statistic):               0.00\n",
       "Time:                        16:02:17   Log-Likelihood:                -7576.0\n",
       "No. Observations:               27340   AIC:                         1.517e+04\n",
       "Df Residuals:                   27331   BIC:                         1.524e+04\n",
       "Df Model:                           8                                         \n",
       "Covariance Type:            nonrobust                                         \n",
       "==============================================================================\n",
       "                 coef    std err          t      P>|t|      [0.025      0.975]\n",
       "------------------------------------------------------------------------------\n",
       "Intercept      1.4620      0.010    140.217      0.000       1.442       1.482\n",
       "progresa       0.0343      0.004      8.594      0.000       0.026       0.042\n",
       "age           -0.0657      0.001    -96.293      0.000      -0.067      -0.064\n",
       "dist_cap       0.0002   3.69e-05      5.681      0.000       0.000       0.000\n",
       "dist_sec      -0.0107      0.001    -12.193      0.000      -0.012      -0.009\n",
       "indig          0.0190      0.005      4.040      0.000       0.010       0.028\n",
       "sex            0.0304      0.004      7.875      0.000       0.023       0.038\n",
       "hohedu         0.0079      0.001     10.217      0.000       0.006       0.009\n",
       "min_dist       0.0004   6.33e-05      6.112      0.000       0.000       0.001\n",
       "==============================================================================\n",
       "Omnibus:                     2922.409   Durbin-Watson:                   1.728\n",
       "Prob(Omnibus):                  0.000   Jarque-Bera (JB):             3958.536\n",
       "Skew:                          -0.925   Prob(JB):                         0.00\n",
       "Kurtosis:                       3.228   Cond. No.                     1.11e+03\n",
       "==============================================================================\n",
       "\n",
       "Warnings:\n",
       "[1] Standard Errors assume that the covariance matrix of the errors is correctly specified.\n",
       "[2] The condition number is large, 1.11e+03. This might indicate that there are\n",
       "strong multicollinearity or other numerical problems.\n",
       "\"\"\""
      ]
     },
     "metadata": {},
     "output_type": "display_data"
    }
   ],
   "source": [
    "glm = smf.ols(formula='sc ~ progresa + age + dist_cap + dist_sec + indig + sex + hohedu + min_dist',\n",
    "             data=data_year_1998).fit()\n",
    "display(glm.summary())"
   ]
  },
  {
   "cell_type": "markdown",
   "metadata": {
    "deletable": true,
    "editable": true
   },
   "source": [
    "1. After adding the controls, the point estimate (beta coefficient) of the progresa treatment variable dropped from 0.0388 (simple linear model) to 0.0343 (multiple linear regression model).\n",
    "\n",
    "2. After adding the controls, the standard error of the progresa treatment variable decreased from from 0.005 (simple linear model) to 0.004 (multiple linear regression model).\n",
    "\n",
    "3. In the simple linear model, it is observed that progresa had a profound effect (0.0388 more likelihood) on a child being enrolled in school. But in the multiple regression model, we can see that, in addition to progresa, there are other factors such as gender, age, and distance to a secondary school (dist_sec) that may influence a child's likelihood of being enrolled in school."
   ]
  },
  {
   "cell_type": "markdown",
   "metadata": {
    "deletable": true,
    "editable": true,
    "ein.tags": [
     "worksheet-0"
    ],
    "slideshow": {
     "slide_type": "-"
    }
   },
   "source": [
    "### 2.4 Difference-in-Difference, version 1 (tabular)\n",
    "\n",
    "Thus far, we have computed the effects of Progresa by estimating the difference in 1998 enrollment rates across villages. An alternative approach would be to compute the treatment effect using a difference-in-differences framework.\n",
    "\n",
    "Begin by estimating the average treatment effects of the program for poor households using data from 1997 and 1998. Specifically, calculate the difference (between 1997 and 1998) in enrollment rates among poor households in treated villages; then compute the difference (between 1997 and 1998) in enrollment rates among poor households in treated villages. The difference between these two differences is your estimate.\n",
    "\n",
    "* What is your estimate of the impact, and how does it compare to your earlier (simple difference) results?\n",
    "* What is the counterfactual assumption underlying this estimate? \n"
   ]
  },
  {
   "cell_type": "code",
   "execution_count": 11,
   "metadata": {
    "autoscroll": "json-false",
    "collapsed": false,
    "deletable": true,
    "editable": true,
    "ein.tags": [
     "worksheet-0"
    ],
    "slideshow": {
     "slide_type": "-"
    }
   },
   "outputs": [
    {
     "data": {
      "text/html": [
       "<div>\n",
       "<table border=\"1\" class=\"dataframe\">\n",
       "  <thead>\n",
       "    <tr style=\"text-align: right;\">\n",
       "      <th></th>\n",
       "      <th>Avg Enrolment (Before Progresa - 1997)</th>\n",
       "      <th>Avg Enrolment (Post Progresa - 1998)</th>\n",
       "    </tr>\n",
       "  </thead>\n",
       "  <tbody>\n",
       "    <tr>\n",
       "      <th>Control Group</th>\n",
       "      <td>0.815186</td>\n",
       "      <td>0.807637</td>\n",
       "    </tr>\n",
       "    <tr>\n",
       "      <th>Treatment Group</th>\n",
       "      <td>0.822697</td>\n",
       "      <td>0.846479</td>\n",
       "    </tr>\n",
       "  </tbody>\n",
       "</table>\n",
       "</div>"
      ],
      "text/plain": [
       "                Avg Enrolment (Before Progresa - 1997)  \\\n",
       "Control Group                                 0.815186   \n",
       "Treatment Group                               0.822697   \n",
       "\n",
       "                Avg Enrolment (Post Progresa - 1998)  \n",
       "Control Group                               0.807637  \n",
       "Treatment Group                             0.846479  "
      ]
     },
     "metadata": {},
     "output_type": "display_data"
    },
    {
     "name": "stdout",
     "output_type": "stream",
     "text": [
      "The difference in difference estimate is : 0.0313312803193\n"
     ]
    }
   ],
   "source": [
    "diff_in_diff_matrix = pd.DataFrame(index=['Control Group', 'Treatment Group'],\n",
    "                                   columns=['Avg Enrolment (Before Progresa - 1997)', 'Avg Enrolment (Post Progresa - 1998)'])\n",
    "\n",
    "control_group_98 = progresa_df[(progresa_df['year'] == 98) & (progresa_df['poor'] == 1) \n",
    "                               & (progresa_df['progresa'] == 0)]\n",
    "\n",
    "treatment_group_98 = progresa_df[(progresa_df['year'] == 98) & (progresa_df['poor'] == 1) \n",
    "                               & (progresa_df['progresa'] == 1)]\n",
    "\n",
    "control_group_97 = progresa_df[(progresa_df['year'] == 97) & (progresa_df['poor'] == 1) \n",
    "                               & (progresa_df['progresa'] == 0)]\n",
    "\n",
    "treatment_group_97 = progresa_df[(progresa_df['year'] == 97) & (progresa_df['poor'] == 1) \n",
    "                               & (progresa_df['progresa'] == 1)]\n",
    "\n",
    "mean_sc_control_97 = control_group_97['sc'].mean()\n",
    "mean_sc_treatment_97 = treatment_group_97['sc'].mean()\n",
    "mean_sc_control_98 = control_group_98['sc'].mean()\n",
    "mean_sc_treatment_98 = treatment_group_98['sc'].mean()\n",
    "\n",
    "diff_in_diff_matrix.set_value('Control Group','Avg Enrolment (Before Progresa - 1997)', mean_sc_control_97)\n",
    "diff_in_diff_matrix.set_value('Treatment Group','Avg Enrolment (Before Progresa - 1997)', mean_sc_treatment_97)\n",
    "diff_in_diff_matrix.set_value('Control Group','Avg Enrolment (Post Progresa - 1998)', mean_sc_control_98)\n",
    "diff_in_diff_matrix.set_value('Treatment Group','Avg Enrolment (Post Progresa - 1998)', mean_sc_treatment_98)\n",
    "display(diff_in_diff_matrix)\n",
    "\n",
    "diff_in_diff_estimate = (mean_sc_treatment_98 - mean_sc_treatment_97) - (mean_sc_control_98 - mean_sc_control_97)\n",
    "print('The difference in difference estimate is : ' + str(diff_in_diff_estimate))\n",
    "\n"
   ]
  },
  {
   "cell_type": "markdown",
   "metadata": {
    "deletable": true,
    "editable": true
   },
   "source": [
    "The difference in difference estimate of 0.0313 is lower than the simple difference result (0.0388). This is because the difference in difference negates the effect of all factors other than progresa that may have impacted the increase in enrolment.\n",
    "\n",
    "The counterfactual assumption is that if the progam was not implemented, the treatment group would have the same increase or decrease in average enrolment as the control group."
   ]
  },
  {
   "cell_type": "markdown",
   "metadata": {
    "deletable": true,
    "editable": true,
    "ein.tags": [
     "worksheet-0"
    ],
    "slideshow": {
     "slide_type": "-"
    }
   },
   "source": [
    "### 2.5 Difference-in-Difference, version 1 (regression)\n",
    "\n",
    "Now use a regression specification to estimate the average treatment effect of the program (on the poor) in a difference-in-differences framework. Include at least 5 control variables.\n",
    "\n",
    "* What is your estimate of the impact of Progresa? Be very specific in interpreting your coefficients and standard errors, and make sure to specify exactly what units you are measuring and estimating.\n",
    "* How do these estimates of the treatment effect compare to the estimates based on the simple difference?\n",
    "* How do these estimates compare to the difference-in-difference estimates from 2.4 above? What accounts for these differences?\n",
    "* What is the counterfactual assumption underlying this regression? "
   ]
  },
  {
   "cell_type": "code",
   "execution_count": 12,
   "metadata": {
    "autoscroll": "json-false",
    "collapsed": false,
    "deletable": true,
    "editable": true,
    "ein.tags": [
     "worksheet-0"
    ],
    "slideshow": {
     "slide_type": "-"
    }
   },
   "outputs": [
    {
     "data": {
      "text/html": [
       "<table class=\"simpletable\">\n",
       "<caption>OLS Regression Results</caption>\n",
       "<tr>\n",
       "  <th>Dep. Variable:</th>           <td>sc</td>        <th>  R-squared:         </th> <td>   0.283</td> \n",
       "</tr>\n",
       "<tr>\n",
       "  <th>Model:</th>                   <td>OLS</td>       <th>  Adj. R-squared:    </th> <td>   0.283</td> \n",
       "</tr>\n",
       "<tr>\n",
       "  <th>Method:</th>             <td>Least Squares</td>  <th>  F-statistic:       </th> <td>   2088.</td> \n",
       "</tr>\n",
       "<tr>\n",
       "  <th>Date:</th>             <td>Mon, 21 Aug 2017</td> <th>  Prob (F-statistic):</th>  <td>  0.00</td>  \n",
       "</tr>\n",
       "<tr>\n",
       "  <th>Time:</th>                 <td>16:02:21</td>     <th>  Log-Likelihood:    </th> <td> -16535.</td> \n",
       "</tr>\n",
       "<tr>\n",
       "  <th>No. Observations:</th>      <td> 58157</td>      <th>  AIC:               </th> <td>3.309e+04</td>\n",
       "</tr>\n",
       "<tr>\n",
       "  <th>Df Residuals:</th>          <td> 58145</td>      <th>  BIC:               </th> <td>3.320e+04</td>\n",
       "</tr>\n",
       "<tr>\n",
       "  <th>Df Model:</th>              <td>    11</td>      <th>                     </th>     <td> </td>    \n",
       "</tr>\n",
       "<tr>\n",
       "  <th>Covariance Type:</th>      <td>nonrobust</td>    <th>                     </th>     <td> </td>    \n",
       "</tr>\n",
       "</table>\n",
       "<table class=\"simpletable\">\n",
       "<tr>\n",
       "             <td></td>                <th>coef</th>     <th>std err</th>      <th>t</th>      <th>P>|t|</th>  <th>[0.025</th>    <th>0.975]</th>  \n",
       "</tr>\n",
       "<tr>\n",
       "  <th>Intercept</th>               <td>    1.4245</td> <td>    0.009</td> <td>  158.727</td> <td> 0.000</td> <td>    1.407</td> <td>    1.442</td>\n",
       "</tr>\n",
       "<tr>\n",
       "  <th>progresa</th>                <td>    0.0033</td> <td>    0.004</td> <td>    0.864</td> <td> 0.388</td> <td>   -0.004</td> <td>    0.011</td>\n",
       "</tr>\n",
       "<tr>\n",
       "  <th>post_treatment</th>          <td>    0.0273</td> <td>    0.004</td> <td>    6.291</td> <td> 0.000</td> <td>    0.019</td> <td>    0.036</td>\n",
       "</tr>\n",
       "<tr>\n",
       "  <th>progresa:post_treatment</th> <td>    0.0313</td> <td>    0.006</td> <td>    5.688</td> <td> 0.000</td> <td>    0.021</td> <td>    0.042</td>\n",
       "</tr>\n",
       "<tr>\n",
       "  <th>sex</th>                     <td>    0.0333</td> <td>    0.003</td> <td>   12.458</td> <td> 0.000</td> <td>    0.028</td> <td>    0.038</td>\n",
       "</tr>\n",
       "<tr>\n",
       "  <th>dist_sec</th>                <td>   -0.0098</td> <td>    0.001</td> <td>  -15.707</td> <td> 0.000</td> <td>   -0.011</td> <td>   -0.009</td>\n",
       "</tr>\n",
       "<tr>\n",
       "  <th>min_dist</th>                <td>    0.0004</td> <td> 4.38e-05</td> <td>    8.441</td> <td> 0.000</td> <td>    0.000</td> <td>    0.000</td>\n",
       "</tr>\n",
       "<tr>\n",
       "  <th>dist_cap</th>                <td>    0.0002</td> <td> 2.55e-05</td> <td>    7.369</td> <td> 0.000</td> <td>    0.000</td> <td>    0.000</td>\n",
       "</tr>\n",
       "<tr>\n",
       "  <th>hohedu</th>                  <td>    0.0074</td> <td>    0.001</td> <td>   12.636</td> <td> 0.000</td> <td>    0.006</td> <td>    0.009</td>\n",
       "</tr>\n",
       "<tr>\n",
       "  <th>age</th>                     <td>   -0.0658</td> <td>    0.000</td> <td> -143.760</td> <td> 0.000</td> <td>   -0.067</td> <td>   -0.065</td>\n",
       "</tr>\n",
       "<tr>\n",
       "  <th>hohage</th>                  <td>    0.0003</td> <td>    0.000</td> <td>    2.092</td> <td> 0.036</td> <td> 1.71e-05</td> <td>    0.001</td>\n",
       "</tr>\n",
       "<tr>\n",
       "  <th>indig</th>                   <td>    0.0240</td> <td>    0.003</td> <td>    7.378</td> <td> 0.000</td> <td>    0.018</td> <td>    0.030</td>\n",
       "</tr>\n",
       "</table>\n",
       "<table class=\"simpletable\">\n",
       "<tr>\n",
       "  <th>Omnibus:</th>       <td>5449.600</td> <th>  Durbin-Watson:     </th> <td>   1.492</td>\n",
       "</tr>\n",
       "<tr>\n",
       "  <th>Prob(Omnibus):</th>  <td> 0.000</td>  <th>  Jarque-Bera (JB):  </th> <td>7147.537</td>\n",
       "</tr>\n",
       "<tr>\n",
       "  <th>Skew:</th>           <td>-0.857</td>  <th>  Prob(JB):          </th> <td>    0.00</td>\n",
       "</tr>\n",
       "<tr>\n",
       "  <th>Kurtosis:</th>       <td> 3.106</td>  <th>  Cond. No.          </th> <td>1.45e+03</td>\n",
       "</tr>\n",
       "</table>"
      ],
      "text/plain": [
       "<class 'statsmodels.iolib.summary.Summary'>\n",
       "\"\"\"\n",
       "                            OLS Regression Results                            \n",
       "==============================================================================\n",
       "Dep. Variable:                     sc   R-squared:                       0.283\n",
       "Model:                            OLS   Adj. R-squared:                  0.283\n",
       "Method:                 Least Squares   F-statistic:                     2088.\n",
       "Date:                Mon, 21 Aug 2017   Prob (F-statistic):               0.00\n",
       "Time:                        16:02:21   Log-Likelihood:                -16535.\n",
       "No. Observations:               58157   AIC:                         3.309e+04\n",
       "Df Residuals:                   58145   BIC:                         3.320e+04\n",
       "Df Model:                          11                                         \n",
       "Covariance Type:            nonrobust                                         \n",
       "===========================================================================================\n",
       "                              coef    std err          t      P>|t|      [0.025      0.975]\n",
       "-------------------------------------------------------------------------------------------\n",
       "Intercept                   1.4245      0.009    158.727      0.000       1.407       1.442\n",
       "progresa                    0.0033      0.004      0.864      0.388      -0.004       0.011\n",
       "post_treatment              0.0273      0.004      6.291      0.000       0.019       0.036\n",
       "progresa:post_treatment     0.0313      0.006      5.688      0.000       0.021       0.042\n",
       "sex                         0.0333      0.003     12.458      0.000       0.028       0.038\n",
       "dist_sec                   -0.0098      0.001    -15.707      0.000      -0.011      -0.009\n",
       "min_dist                    0.0004   4.38e-05      8.441      0.000       0.000       0.000\n",
       "dist_cap                    0.0002   2.55e-05      7.369      0.000       0.000       0.000\n",
       "hohedu                      0.0074      0.001     12.636      0.000       0.006       0.009\n",
       "age                        -0.0658      0.000   -143.760      0.000      -0.067      -0.065\n",
       "hohage                      0.0003      0.000      2.092      0.036    1.71e-05       0.001\n",
       "indig                       0.0240      0.003      7.378      0.000       0.018       0.030\n",
       "==============================================================================\n",
       "Omnibus:                     5449.600   Durbin-Watson:                   1.492\n",
       "Prob(Omnibus):                  0.000   Jarque-Bera (JB):             7147.537\n",
       "Skew:                          -0.857   Prob(JB):                         0.00\n",
       "Kurtosis:                       3.106   Cond. No.                     1.45e+03\n",
       "==============================================================================\n",
       "\n",
       "Warnings:\n",
       "[1] Standard Errors assume that the covariance matrix of the errors is correctly specified.\n",
       "[2] The condition number is large, 1.45e+03. This might indicate that there are\n",
       "strong multicollinearity or other numerical problems.\n",
       "\"\"\""
      ]
     },
     "metadata": {},
     "output_type": "display_data"
    }
   ],
   "source": [
    "progresa_df.loc[progresa_df['year'] == 97, 'post_treatment'] = 0\n",
    "progresa_df.loc[progresa_df['year'] == 98, 'post_treatment'] = 1\n",
    "diff_in_diff_lm = smf.ols(formula='sc ~ progresa + post_treatment + progresa*post_treatment + sex + dist_sec  + min_dist + dist_cap + hohedu + age + hohage + indig',\n",
    "             data=progresa_df[progresa_df['poor'] == 1]).fit()\n",
    "display(diff_in_diff_lm.summary())"
   ]
  },
  {
   "cell_type": "markdown",
   "metadata": {
    "deletable": true,
    "editable": true
   },
   "source": [
    "1. progresa*post_treatment : For families who were enrolled in the progresa program in 1998, the overall enrollment rate of children was 0.0313 units higher.\n",
    "    post_treatment: The enrollment for the year 1998 was 0.0273 units higher than that of year 1997.\n",
    "    \n",
    "2. The point estimate in difference in difference model is lower as compared with the simple differences (regression) model. The higher point estimate in case of the simple differences model may be because it fails to discard other factors that may have contributed towards the increase in enrolment. The difference in difference model discards all other factors that may have influenced the increase in enrolment rate and hence, the lower value.\n",
    "\n",
    "3. The point estimates in the difference in difference regression model are similar to the difference in difference estimates from 2.4\n",
    "\n",
    "4. The counterfactual assumption is that if the progam was not implemented, the treatment group would have the same increase or decrease in average enrolment as the control group."
   ]
  },
  {
   "cell_type": "markdown",
   "metadata": {
    "deletable": true,
    "editable": true,
    "ein.tags": [
     "worksheet-0"
    ],
    "slideshow": {
     "slide_type": "-"
    }
   },
   "source": [
    "### 2.6 Difference-in-Difference, version 2\n",
    "\n",
    "In the previous problem, you estimated a difference-in-differences model that compared changes in enrollment rates over time across treatment and control villages. An alternative approach would be to compare enrollment rates in 1998 between poor and non-poor across treatment and control villages. \n",
    "\n",
    "* How would we estimate this version of the treatment effects in a regression model? \n",
    "* What is the counterfactual assumption underlying this regression?\n",
    "* How do these treatment effects compare to the estimates above?\n",
    "* Discuss some possible explanations for differences or similarities "
   ]
  },
  {
   "cell_type": "code",
   "execution_count": 13,
   "metadata": {
    "autoscroll": "json-false",
    "collapsed": false,
    "deletable": true,
    "editable": true,
    "ein.tags": [
     "worksheet-0"
    ],
    "slideshow": {
     "slide_type": "-"
    }
   },
   "outputs": [
    {
     "data": {
      "text/html": [
       "<table class=\"simpletable\">\n",
       "<caption>OLS Regression Results</caption>\n",
       "<tr>\n",
       "  <th>Dep. Variable:</th>           <td>sc</td>        <th>  R-squared:         </th> <td>   0.274</td> \n",
       "</tr>\n",
       "<tr>\n",
       "  <th>Model:</th>                   <td>OLS</td>       <th>  Adj. R-squared:    </th> <td>   0.274</td> \n",
       "</tr>\n",
       "<tr>\n",
       "  <th>Method:</th>             <td>Least Squares</td>  <th>  F-statistic:       </th> <td>   1097.</td> \n",
       "</tr>\n",
       "<tr>\n",
       "  <th>Date:</th>             <td>Mon, 21 Aug 2017</td> <th>  Prob (F-statistic):</th>  <td>  0.00</td>  \n",
       "</tr>\n",
       "<tr>\n",
       "  <th>Time:</th>                 <td>16:02:23</td>     <th>  Log-Likelihood:    </th> <td> -9214.1</td> \n",
       "</tr>\n",
       "<tr>\n",
       "  <th>No. Observations:</th>      <td> 31971</td>      <th>  AIC:               </th> <td>1.845e+04</td>\n",
       "</tr>\n",
       "<tr>\n",
       "  <th>Df Residuals:</th>          <td> 31959</td>      <th>  BIC:               </th> <td>1.855e+04</td>\n",
       "</tr>\n",
       "<tr>\n",
       "  <th>Df Model:</th>              <td>    11</td>      <th>                     </th>     <td> </td>    \n",
       "</tr>\n",
       "<tr>\n",
       "  <th>Covariance Type:</th>      <td>nonrobust</td>    <th>                     </th>     <td> </td>    \n",
       "</tr>\n",
       "</table>\n",
       "<table class=\"simpletable\">\n",
       "<tr>\n",
       "        <td></td>           <th>coef</th>     <th>std err</th>      <th>t</th>      <th>P>|t|</th>  <th>[0.025</th>    <th>0.975]</th>  \n",
       "</tr>\n",
       "<tr>\n",
       "  <th>Intercept</th>     <td>    1.4850</td> <td>    0.014</td> <td>  102.419</td> <td> 0.000</td> <td>    1.457</td> <td>    1.513</td>\n",
       "</tr>\n",
       "<tr>\n",
       "  <th>progresa</th>      <td>    0.0244</td> <td>    0.010</td> <td>    2.515</td> <td> 0.012</td> <td>    0.005</td> <td>    0.043</td>\n",
       "</tr>\n",
       "<tr>\n",
       "  <th>poor</th>          <td>   -0.0238</td> <td>    0.008</td> <td>   -2.873</td> <td> 0.004</td> <td>   -0.040</td> <td>   -0.008</td>\n",
       "</tr>\n",
       "<tr>\n",
       "  <th>progresa:poor</th> <td>    0.0102</td> <td>    0.011</td> <td>    0.976</td> <td> 0.329</td> <td>   -0.010</td> <td>    0.031</td>\n",
       "</tr>\n",
       "<tr>\n",
       "  <th>sex</th>           <td>    0.0305</td> <td>    0.004</td> <td>    8.442</td> <td> 0.000</td> <td>    0.023</td> <td>    0.038</td>\n",
       "</tr>\n",
       "<tr>\n",
       "  <th>dist_sec</th>      <td>   -0.0109</td> <td>    0.001</td> <td>  -12.990</td> <td> 0.000</td> <td>   -0.013</td> <td>   -0.009</td>\n",
       "</tr>\n",
       "<tr>\n",
       "  <th>min_dist</th>      <td>    0.0003</td> <td> 5.93e-05</td> <td>    5.645</td> <td> 0.000</td> <td>    0.000</td> <td>    0.000</td>\n",
       "</tr>\n",
       "<tr>\n",
       "  <th>dist_cap</th>      <td>    0.0003</td> <td> 3.52e-05</td> <td>    7.370</td> <td> 0.000</td> <td>    0.000</td> <td>    0.000</td>\n",
       "</tr>\n",
       "<tr>\n",
       "  <th>hohedu</th>        <td>    0.0086</td> <td>    0.001</td> <td>   11.424</td> <td> 0.000</td> <td>    0.007</td> <td>    0.010</td>\n",
       "</tr>\n",
       "<tr>\n",
       "  <th>age</th>           <td>   -0.0662</td> <td>    0.001</td> <td> -102.569</td> <td> 0.000</td> <td>   -0.067</td> <td>   -0.065</td>\n",
       "</tr>\n",
       "<tr>\n",
       "  <th>hohage</th>        <td> 5.452e-05</td> <td>    0.000</td> <td>    0.311</td> <td> 0.756</td> <td>   -0.000</td> <td>    0.000</td>\n",
       "</tr>\n",
       "<tr>\n",
       "  <th>indig</th>         <td>    0.0181</td> <td>    0.004</td> <td>    4.024</td> <td> 0.000</td> <td>    0.009</td> <td>    0.027</td>\n",
       "</tr>\n",
       "</table>\n",
       "<table class=\"simpletable\">\n",
       "<tr>\n",
       "  <th>Omnibus:</th>       <td>3161.185</td> <th>  Durbin-Watson:     </th> <td>   1.733</td>\n",
       "</tr>\n",
       "<tr>\n",
       "  <th>Prob(Omnibus):</th>  <td> 0.000</td>  <th>  Jarque-Bera (JB):  </th> <td>4205.366</td>\n",
       "</tr>\n",
       "<tr>\n",
       "  <th>Skew:</th>           <td>-0.887</td>  <th>  Prob(JB):          </th> <td>    0.00</td>\n",
       "</tr>\n",
       "<tr>\n",
       "  <th>Kurtosis:</th>       <td> 3.109</td>  <th>  Cond. No.          </th> <td>2.04e+03</td>\n",
       "</tr>\n",
       "</table>"
      ],
      "text/plain": [
       "<class 'statsmodels.iolib.summary.Summary'>\n",
       "\"\"\"\n",
       "                            OLS Regression Results                            \n",
       "==============================================================================\n",
       "Dep. Variable:                     sc   R-squared:                       0.274\n",
       "Model:                            OLS   Adj. R-squared:                  0.274\n",
       "Method:                 Least Squares   F-statistic:                     1097.\n",
       "Date:                Mon, 21 Aug 2017   Prob (F-statistic):               0.00\n",
       "Time:                        16:02:23   Log-Likelihood:                -9214.1\n",
       "No. Observations:               31971   AIC:                         1.845e+04\n",
       "Df Residuals:                   31959   BIC:                         1.855e+04\n",
       "Df Model:                          11                                         \n",
       "Covariance Type:            nonrobust                                         \n",
       "=================================================================================\n",
       "                    coef    std err          t      P>|t|      [0.025      0.975]\n",
       "---------------------------------------------------------------------------------\n",
       "Intercept         1.4850      0.014    102.419      0.000       1.457       1.513\n",
       "progresa          0.0244      0.010      2.515      0.012       0.005       0.043\n",
       "poor             -0.0238      0.008     -2.873      0.004      -0.040      -0.008\n",
       "progresa:poor     0.0102      0.011      0.976      0.329      -0.010       0.031\n",
       "sex               0.0305      0.004      8.442      0.000       0.023       0.038\n",
       "dist_sec         -0.0109      0.001    -12.990      0.000      -0.013      -0.009\n",
       "min_dist          0.0003   5.93e-05      5.645      0.000       0.000       0.000\n",
       "dist_cap          0.0003   3.52e-05      7.370      0.000       0.000       0.000\n",
       "hohedu            0.0086      0.001     11.424      0.000       0.007       0.010\n",
       "age              -0.0662      0.001   -102.569      0.000      -0.067      -0.065\n",
       "hohage         5.452e-05      0.000      0.311      0.756      -0.000       0.000\n",
       "indig             0.0181      0.004      4.024      0.000       0.009       0.027\n",
       "==============================================================================\n",
       "Omnibus:                     3161.185   Durbin-Watson:                   1.733\n",
       "Prob(Omnibus):                  0.000   Jarque-Bera (JB):             4205.366\n",
       "Skew:                          -0.887   Prob(JB):                         0.00\n",
       "Kurtosis:                       3.109   Cond. No.                     2.04e+03\n",
       "==============================================================================\n",
       "\n",
       "Warnings:\n",
       "[1] Standard Errors assume that the covariance matrix of the errors is correctly specified.\n",
       "[2] The condition number is large, 2.04e+03. This might indicate that there are\n",
       "strong multicollinearity or other numerical problems.\n",
       "\"\"\""
      ]
     },
     "metadata": {},
     "output_type": "display_data"
    }
   ],
   "source": [
    "diff_in_diff_lm_2 = smf.ols(formula='sc ~ progresa + poor + progresa*poor + sex + dist_sec  + min_dist + dist_cap + hohedu + age + hohage + indig',\n",
    "             data=progresa_df[progresa_df['year'] == 98]).fit()\n",
    "display(diff_in_diff_lm_2.summary())"
   ]
  },
  {
   "cell_type": "markdown",
   "metadata": {
    "deletable": true,
    "editable": true
   },
   "source": [
    "progresa*poor : For families that were enrolled in the progresa program in the year 1998, the average enrolment rate increased by 0.0244.\n",
    "poor: In 1998, The likelihood of children being enrolled in school was 0.0238 units less if the family was poor.\n",
    "\n",
    "The counterfactual assumption underlying this regression is that in the absence of this program, the enrollment rate for poor and non-poor households would be the same.\n",
    "\n",
    "In case of treatment effects, we can see that if a family was poor, the likelihood of them sending their children to school was 0.0238 units less. This is contrary to the purpose of the Progresa progam itself, which was meant to alleviate poverty in Mexico.\n",
    "\n",
    "For poor families that were enrolled in the program (progresa*poor), the interaction is not statistically significant. A possible explanation for this would be that since the program is primarily intended for the poor, this factor is not statistically significant in determining the program's success."
   ]
  },
  {
   "cell_type": "markdown",
   "metadata": {
    "deletable": true,
    "editable": true,
    "ein.tags": [
     "worksheet-0"
    ],
    "slideshow": {
     "slide_type": "-"
    }
   },
   "source": [
    "### 2.7 Spillover effects (extra credit)\n",
    "\n",
    "Thus far, we have focused on the impact of PROGRESA on poor households. Repeat your analysis in 2.5, using a double-difference regression to estimate the impact of PROGRESA on non-poor households. In other words, compare the difference in enrollments between 1997 and 1998 for non-poor households in treatment villages with the difference in enrollments between 1997 and 1998 for non-poor households in control villages.\n",
    "\n",
    "* A: Describe one or two reasons why PROGRESA might have impacted non-poor households.\n",
    "* B: Do you observe any impacts of PROGRESA on the non-poor?\n",
    "* C: What is the identifying assumption that you are using to estimate the impact of PROGRESA on non-poor households."
   ]
  },
  {
   "cell_type": "code",
   "execution_count": 14,
   "metadata": {
    "autoscroll": "json-false",
    "collapsed": false,
    "deletable": true,
    "editable": true,
    "ein.tags": [
     "worksheet-0"
    ],
    "slideshow": {
     "slide_type": "-"
    }
   },
   "outputs": [
    {
     "data": {
      "text/html": [
       "<table class=\"simpletable\">\n",
       "<caption>OLS Regression Results</caption>\n",
       "<tr>\n",
       "  <th>Dep. Variable:</th>           <td>sc</td>        <th>  R-squared:         </th> <td>   0.292</td>\n",
       "</tr>\n",
       "<tr>\n",
       "  <th>Model:</th>                   <td>OLS</td>       <th>  Adj. R-squared:    </th> <td>   0.291</td>\n",
       "</tr>\n",
       "<tr>\n",
       "  <th>Method:</th>             <td>Least Squares</td>  <th>  F-statistic:       </th> <td>   388.0</td>\n",
       "</tr>\n",
       "<tr>\n",
       "  <th>Date:</th>             <td>Mon, 21 Aug 2017</td> <th>  Prob (F-statistic):</th>  <td>  0.00</td> \n",
       "</tr>\n",
       "<tr>\n",
       "  <th>Time:</th>                 <td>16:02:25</td>     <th>  Log-Likelihood:    </th> <td> -3642.3</td>\n",
       "</tr>\n",
       "<tr>\n",
       "  <th>No. Observations:</th>      <td> 10378</td>      <th>  AIC:               </th> <td>   7309.</td>\n",
       "</tr>\n",
       "<tr>\n",
       "  <th>Df Residuals:</th>          <td> 10366</td>      <th>  BIC:               </th> <td>   7396.</td>\n",
       "</tr>\n",
       "<tr>\n",
       "  <th>Df Model:</th>              <td>    11</td>      <th>                     </th>     <td> </td>   \n",
       "</tr>\n",
       "<tr>\n",
       "  <th>Covariance Type:</th>      <td>nonrobust</td>    <th>                     </th>     <td> </td>   \n",
       "</tr>\n",
       "</table>\n",
       "<table class=\"simpletable\">\n",
       "<tr>\n",
       "             <td></td>                <th>coef</th>     <th>std err</th>      <th>t</th>      <th>P>|t|</th>  <th>[0.025</th>    <th>0.975]</th>  \n",
       "</tr>\n",
       "<tr>\n",
       "  <th>Intercept</th>               <td>    1.4764</td> <td>    0.024</td> <td>   61.778</td> <td> 0.000</td> <td>    1.430</td> <td>    1.523</td>\n",
       "</tr>\n",
       "<tr>\n",
       "  <th>progresa</th>                <td>    0.0246</td> <td>    0.009</td> <td>    2.651</td> <td> 0.008</td> <td>    0.006</td> <td>    0.043</td>\n",
       "</tr>\n",
       "<tr>\n",
       "  <th>post_treatment</th>          <td>    0.0394</td> <td>    0.011</td> <td>    3.659</td> <td> 0.000</td> <td>    0.018</td> <td>    0.060</td>\n",
       "</tr>\n",
       "<tr>\n",
       "  <th>progresa:post_treatment</th> <td>   -0.0030</td> <td>    0.014</td> <td>   -0.214</td> <td> 0.830</td> <td>   -0.030</td> <td>    0.024</td>\n",
       "</tr>\n",
       "<tr>\n",
       "  <th>sex</th>                     <td>    0.0303</td> <td>    0.007</td> <td>    4.490</td> <td> 0.000</td> <td>    0.017</td> <td>    0.044</td>\n",
       "</tr>\n",
       "<tr>\n",
       "  <th>dist_sec</th>                <td>   -0.0154</td> <td>    0.002</td> <td>   -8.726</td> <td> 0.000</td> <td>   -0.019</td> <td>   -0.012</td>\n",
       "</tr>\n",
       "<tr>\n",
       "  <th>min_dist</th>                <td>-8.567e-05</td> <td>    0.000</td> <td>   -0.740</td> <td> 0.459</td> <td>   -0.000</td> <td>    0.000</td>\n",
       "</tr>\n",
       "<tr>\n",
       "  <th>dist_cap</th>                <td>    0.0006</td> <td> 7.62e-05</td> <td>    8.293</td> <td> 0.000</td> <td>    0.000</td> <td>    0.001</td>\n",
       "</tr>\n",
       "<tr>\n",
       "  <th>hohedu</th>                  <td>    0.0090</td> <td>    0.001</td> <td>    7.555</td> <td> 0.000</td> <td>    0.007</td> <td>    0.011</td>\n",
       "</tr>\n",
       "<tr>\n",
       "  <th>age</th>                     <td>   -0.0686</td> <td>    0.001</td> <td>  -59.984</td> <td> 0.000</td> <td>   -0.071</td> <td>   -0.066</td>\n",
       "</tr>\n",
       "<tr>\n",
       "  <th>hohage</th>                  <td> 7.182e-05</td> <td>    0.000</td> <td>    0.214</td> <td> 0.831</td> <td>   -0.001</td> <td>    0.001</td>\n",
       "</tr>\n",
       "<tr>\n",
       "  <th>indig</th>                   <td>    0.0129</td> <td>    0.010</td> <td>    1.237</td> <td> 0.216</td> <td>   -0.008</td> <td>    0.033</td>\n",
       "</tr>\n",
       "</table>\n",
       "<table class=\"simpletable\">\n",
       "<tr>\n",
       "  <th>Omnibus:</th>       <td>840.967</td> <th>  Durbin-Watson:     </th> <td>   1.504</td> \n",
       "</tr>\n",
       "<tr>\n",
       "  <th>Prob(Omnibus):</th> <td> 0.000</td>  <th>  Jarque-Bera (JB):  </th> <td> 800.243</td> \n",
       "</tr>\n",
       "<tr>\n",
       "  <th>Skew:</th>          <td>-0.620</td>  <th>  Prob(JB):          </th> <td>1.70e-174</td>\n",
       "</tr>\n",
       "<tr>\n",
       "  <th>Kurtosis:</th>      <td> 2.439</td>  <th>  Cond. No.          </th> <td>1.27e+03</td> \n",
       "</tr>\n",
       "</table>"
      ],
      "text/plain": [
       "<class 'statsmodels.iolib.summary.Summary'>\n",
       "\"\"\"\n",
       "                            OLS Regression Results                            \n",
       "==============================================================================\n",
       "Dep. Variable:                     sc   R-squared:                       0.292\n",
       "Model:                            OLS   Adj. R-squared:                  0.291\n",
       "Method:                 Least Squares   F-statistic:                     388.0\n",
       "Date:                Mon, 21 Aug 2017   Prob (F-statistic):               0.00\n",
       "Time:                        16:02:25   Log-Likelihood:                -3642.3\n",
       "No. Observations:               10378   AIC:                             7309.\n",
       "Df Residuals:                   10366   BIC:                             7396.\n",
       "Df Model:                          11                                         \n",
       "Covariance Type:            nonrobust                                         \n",
       "===========================================================================================\n",
       "                              coef    std err          t      P>|t|      [0.025      0.975]\n",
       "-------------------------------------------------------------------------------------------\n",
       "Intercept                   1.4764      0.024     61.778      0.000       1.430       1.523\n",
       "progresa                    0.0246      0.009      2.651      0.008       0.006       0.043\n",
       "post_treatment              0.0394      0.011      3.659      0.000       0.018       0.060\n",
       "progresa:post_treatment    -0.0030      0.014     -0.214      0.830      -0.030       0.024\n",
       "sex                         0.0303      0.007      4.490      0.000       0.017       0.044\n",
       "dist_sec                   -0.0154      0.002     -8.726      0.000      -0.019      -0.012\n",
       "min_dist                -8.567e-05      0.000     -0.740      0.459      -0.000       0.000\n",
       "dist_cap                    0.0006   7.62e-05      8.293      0.000       0.000       0.001\n",
       "hohedu                      0.0090      0.001      7.555      0.000       0.007       0.011\n",
       "age                        -0.0686      0.001    -59.984      0.000      -0.071      -0.066\n",
       "hohage                   7.182e-05      0.000      0.214      0.831      -0.001       0.001\n",
       "indig                       0.0129      0.010      1.237      0.216      -0.008       0.033\n",
       "==============================================================================\n",
       "Omnibus:                      840.967   Durbin-Watson:                   1.504\n",
       "Prob(Omnibus):                  0.000   Jarque-Bera (JB):              800.243\n",
       "Skew:                          -0.620   Prob(JB):                    1.70e-174\n",
       "Kurtosis:                       2.439   Cond. No.                     1.27e+03\n",
       "==============================================================================\n",
       "\n",
       "Warnings:\n",
       "[1] Standard Errors assume that the covariance matrix of the errors is correctly specified.\n",
       "[2] The condition number is large, 1.27e+03. This might indicate that there are\n",
       "strong multicollinearity or other numerical problems.\n",
       "\"\"\""
      ]
     },
     "metadata": {},
     "output_type": "display_data"
    }
   ],
   "source": [
    "did_lm_non_poor = smf.ols(formula='sc ~ progresa + post_treatment + progresa*post_treatment + sex + dist_sec  + min_dist + dist_cap + hohedu + age + hohage + indig',\n",
    "             data=progresa_df[progresa_df['poor'] == 0]).fit()\n",
    "display(did_lm_non_poor.summary())"
   ]
  },
  {
   "cell_type": "markdown",
   "metadata": {
    "deletable": true,
    "editable": true
   },
   "source": [
    "A. One possible reason why non-poor households may have enrolled in the program is peer influence. Seeing the poor households sending their children to school may have influenced the non-poor households to send their children to school too.\n",
    "\n",
    "B. The post-treatment variable, which gives us the average enrolment rates for non-poor households, is statistically significant. This indicates that the average enrolment rates non-poor households increased by 0.0394 from 1997-1998, in spite of not getting the program subsidy.\n",
    "\n",
    "C. The  identifying assumption that we are using to estimate the impact of Progresa on non-poor households is that the non-poor households are not eligible for subsidy from the program even if they send their children to school."
   ]
  },
  {
   "cell_type": "markdown",
   "metadata": {
    "deletable": true,
    "editable": true,
    "ein.tags": [
     "worksheet-0"
    ],
    "slideshow": {
     "slide_type": "-"
    }
   },
   "source": [
    "### 2.8 Summary\n",
    "\n",
    "Based on all the analysis you have undertaken to date, do you thik that Progresa had a causal impact on the enrollment rates of poor households in Mexico?"
   ]
  },
  {
   "cell_type": "markdown",
   "metadata": {
    "autoscroll": "json-false",
    "collapsed": false,
    "deletable": true,
    "editable": true,
    "ein.tags": [
     "worksheet-0"
    ],
    "slideshow": {
     "slide_type": "-"
    }
   },
   "source": [
    "Yes, the Progresa program definitely had an impact on the enrollment rates of poor households in Mexico. This is evident from the increase in average enrolment rates for poor households from 1997 to 1998. \n",
    "\n",
    "But whether or not, this program had a causal effect, is difficult to say with the data in hand (1997-1998). To comment on the causal effect, one needs to analyse the increase in enrollment over a period of a few years. With that said, there may be other factors that have contributed towards the increase in enrollment rates."
   ]
  }
 ],
 "metadata": {
  "kernelspec": {
   "display_name": "Python 3",
   "language": "python",
   "name": "python3"
  },
  "language_info": {
   "codemirror_mode": {
    "name": "ipython",
    "version": 3
   },
   "file_extension": ".py",
   "mimetype": "text/x-python",
   "name": "python",
   "nbconvert_exporter": "python",
   "pygments_lexer": "ipython3",
   "version": "3.6.0"
  },
  "name": "ps2.ipynb"
 },
 "nbformat": 4,
 "nbformat_minor": 2
}
